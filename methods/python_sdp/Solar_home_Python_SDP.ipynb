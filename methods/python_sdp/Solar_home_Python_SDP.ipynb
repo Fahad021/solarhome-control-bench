{
 "cells": [
  {
   "cell_type": "markdown",
   "metadata": {},
   "source": [
    "# Control of a solar home with Stochastic Dynamic Programming (SDP)\n",
    "\n",
    "using the [stodynprog](https://github.com/pierre-haessig/stodynprog) package\n",
    "\n",
    "Pierre Haessig, July 2019"
   ]
  },
  {
   "cell_type": "code",
   "execution_count": 1,
   "metadata": {},
   "outputs": [],
   "source": [
    "import numpy as np\n",
    "import pandas as pd\n",
    "import matplotlib.pyplot as plt\n",
    "%matplotlib inline"
   ]
  },
  {
   "cell_type": "code",
   "execution_count": 66,
   "metadata": {},
   "outputs": [],
   "source": [
    "import scipy.stats as stats"
   ]
  },
  {
   "cell_type": "code",
   "execution_count": 67,
   "metadata": {},
   "outputs": [],
   "source": [
    "from stodynprog import SysDescription, DPSolver"
   ]
  },
  {
   "cell_type": "markdown",
   "metadata": {},
   "source": [
    "Import solarhome utility module"
   ]
  },
  {
   "cell_type": "code",
   "execution_count": 2,
   "metadata": {},
   "outputs": [],
   "source": [
    "from pathlib import Path\n",
    "p_utils = Path('../../utils')\n",
    "assert(p_utils.exists())\n",
    "\n",
    "import sys\n",
    "sys.path.append(str(p_utils))\n",
    "\n",
    "import benchutils\n",
    "from benchutils import load_data, load_results"
   ]
  },
  {
   "cell_type": "markdown",
   "metadata": {},
   "source": [
    "### Load testcase data"
   ]
  },
  {
   "cell_type": "code",
   "execution_count": 3,
   "metadata": {},
   "outputs": [
    {
     "data": {
      "text/html": [
       "<div>\n",
       "<style scoped>\n",
       "    .dataframe tbody tr th:only-of-type {\n",
       "        vertical-align: middle;\n",
       "    }\n",
       "\n",
       "    .dataframe tbody tr th {\n",
       "        vertical-align: top;\n",
       "    }\n",
       "\n",
       "    .dataframe thead th {\n",
       "        text-align: right;\n",
       "    }\n",
       "</style>\n",
       "<table border=\"1\" class=\"dataframe\">\n",
       "  <thead>\n",
       "    <tr style=\"text-align: right;\">\n",
       "      <th></th>\n",
       "      <th>P_load_sp</th>\n",
       "      <th>P_sun_1k</th>\n",
       "      <th>c_grid</th>\n",
       "    </tr>\n",
       "  </thead>\n",
       "  <tbody>\n",
       "    <tr>\n",
       "      <th>0.0</th>\n",
       "      <td>0.520</td>\n",
       "      <td>0.0</td>\n",
       "      <td>0.1</td>\n",
       "    </tr>\n",
       "    <tr>\n",
       "      <th>0.5</th>\n",
       "      <td>0.528</td>\n",
       "      <td>0.0</td>\n",
       "      <td>0.1</td>\n",
       "    </tr>\n",
       "    <tr>\n",
       "      <th>1.0</th>\n",
       "      <td>0.496</td>\n",
       "      <td>0.0</td>\n",
       "      <td>0.1</td>\n",
       "    </tr>\n",
       "  </tbody>\n",
       "</table>\n",
       "</div>"
      ],
      "text/plain": [
       "     P_load_sp  P_sun_1k  c_grid\n",
       "0.0      0.520       0.0     0.1\n",
       "0.5      0.528       0.0     0.1\n",
       "1.0      0.496       0.0     0.1"
      ]
     },
     "execution_count": 3,
     "metadata": {},
     "output_type": "execute_result"
    }
   ],
   "source": [
    "params, data = load_data()\n",
    "data.head(3)"
   ]
  },
  {
   "cell_type": "code",
   "execution_count": 9,
   "metadata": {},
   "outputs": [
    {
     "data": {
      "text/html": [
       "<div>\n",
       "<style scoped>\n",
       "    .dataframe tbody tr th:only-of-type {\n",
       "        vertical-align: middle;\n",
       "    }\n",
       "\n",
       "    .dataframe tbody tr th {\n",
       "        vertical-align: top;\n",
       "    }\n",
       "\n",
       "    .dataframe thead th {\n",
       "        text-align: right;\n",
       "    }\n",
       "</style>\n",
       "<table border=\"1\" class=\"dataframe\">\n",
       "  <thead>\n",
       "    <tr style=\"text-align: right;\">\n",
       "      <th></th>\n",
       "      <th>P_load_sp</th>\n",
       "      <th>P_sun_1k</th>\n",
       "      <th>c_grid</th>\n",
       "    </tr>\n",
       "  </thead>\n",
       "  <tbody>\n",
       "    <tr>\n",
       "      <th>717.5</th>\n",
       "      <td>0.832</td>\n",
       "      <td>0.0</td>\n",
       "      <td>0.2</td>\n",
       "    </tr>\n",
       "    <tr>\n",
       "      <th>718.0</th>\n",
       "      <td>0.582</td>\n",
       "      <td>0.0</td>\n",
       "      <td>0.2</td>\n",
       "    </tr>\n",
       "    <tr>\n",
       "      <th>718.5</th>\n",
       "      <td>0.514</td>\n",
       "      <td>0.0</td>\n",
       "      <td>0.2</td>\n",
       "    </tr>\n",
       "    <tr>\n",
       "      <th>719.0</th>\n",
       "      <td>0.514</td>\n",
       "      <td>0.0</td>\n",
       "      <td>0.2</td>\n",
       "    </tr>\n",
       "    <tr>\n",
       "      <th>719.5</th>\n",
       "      <td>0.454</td>\n",
       "      <td>0.0</td>\n",
       "      <td>0.2</td>\n",
       "    </tr>\n",
       "  </tbody>\n",
       "</table>\n",
       "</div>"
      ],
      "text/plain": [
       "       P_load_sp  P_sun_1k  c_grid\n",
       "717.5      0.832       0.0     0.2\n",
       "718.0      0.582       0.0     0.2\n",
       "718.5      0.514       0.0     0.2\n",
       "719.0      0.514       0.0     0.2\n",
       "719.5      0.454       0.0     0.2"
      ]
     },
     "execution_count": 9,
     "metadata": {},
     "output_type": "execute_result"
    }
   ],
   "source": [
    "params, data_train = load_data(subset='train')"
   ]
  },
  {
   "cell_type": "code",
   "execution_count": 14,
   "metadata": {},
   "outputs": [
    {
     "data": {
      "text/plain": [
       "30"
      ]
     },
     "execution_count": 14,
     "metadata": {},
     "output_type": "execute_result"
    }
   ],
   "source": [
    "n = len(data)\n",
    "ndays = n//48 # days\n",
    "ndays"
   ]
  },
  {
   "cell_type": "markdown",
   "metadata": {},
   "source": [
    "Parameters:"
   ]
  },
  {
   "cell_type": "code",
   "execution_count": 15,
   "metadata": {},
   "outputs": [
    {
     "name": "stdout",
     "output_type": "stream",
     "text": [
      "E_rated: 8.0 kWh\n",
      "P_pvp: 4.0 kW\n"
     ]
    }
   ],
   "source": [
    "E_rated = params['E_rated'] # kWh\n",
    "P_pvp = params['P_pvp'] # kW\n",
    "print('E_rated: {:.1f} kWh'.format(E_rated))\n",
    "print('P_pvp: {:.1f} kW'.format(P_pvp))"
   ]
  },
  {
   "cell_type": "markdown",
   "metadata": {},
   "source": [
    "Battery power"
   ]
  },
  {
   "cell_type": "code",
   "execution_count": 52,
   "metadata": {},
   "outputs": [],
   "source": [
    "P_rated = 3 # kW"
   ]
  },
  {
   "cell_type": "code",
   "execution_count": 16,
   "metadata": {},
   "outputs": [],
   "source": [
    "P_load = data.P_load_sp\n",
    "P_sun = data.P_sun_1k*P_pvp;\n",
    "\n",
    "t = data.index\n",
    "dt = t[1] - t[0]\n",
    "td = t/24 #days"
   ]
  },
  {
   "cell_type": "code",
   "execution_count": 17,
   "metadata": {},
   "outputs": [
    {
     "name": "stdout",
     "output_type": "stream",
     "text": [
      "Average sun energy: 15.60 kWh/d\n",
      "Average load      : 17.02 kWh/d\n",
      "ratio sun/load: 91.70%\n"
     ]
    }
   ],
   "source": [
    "print('Average sun energy: {:.2f} kWh/d'.format(P_sun.mean()*24))\n",
    "print('Average load      : {:.2f} kWh/d'.format(P_load.mean()*24))\n",
    "print('ratio sun/load: {:.2%}'.format(P_sun.mean()/P_load.mean()))"
   ]
  },
  {
   "cell_type": "markdown",
   "metadata": {},
   "source": [
    "Demo plot of input data"
   ]
  },
  {
   "cell_type": "code",
   "execution_count": 18,
   "metadata": {},
   "outputs": [
    {
     "data": {
      "image/png": "[encoded data removed]",
      "text/plain": [
       "<Figure size 576x180 with 1 Axes>"
      ]
     },
     "metadata": {
      "needs_background": "light"
     },
     "output_type": "display_data"
    }
   ],
   "source": [
    "fig, ax = plt.subplots(1,1, figsize=(8,2.5))\n",
    "z = slice(0, 7*48)\n",
    "ax.plot(td[z], P_load.iloc[z], label='load')\n",
    "ax.plot(td[z], P_sun.iloc[z], label='sun ({} kWp)'.format(P_pvp))\n",
    "ax.legend()\n",
    "\n",
    "ax.set(\n",
    "    xlim = (0,7),\n",
    "    xlabel = 'time (days)',\n",
    "    ylabel = 'Power (kW)'   \n",
    ")\n",
    "fig.tight_layout()"
   ]
  },
  {
   "cell_type": "markdown",
   "metadata": {},
   "source": [
    "## Model of uncertainty: iid"
   ]
  },
  {
   "cell_type": "code",
   "execution_count": 30,
   "metadata": {
    "scrolled": true
   },
   "outputs": [],
   "source": [
    "P_nl_train = data_train.P_load_sp - data_train.P_sun_1k*P_pvp"
   ]
  },
  {
   "cell_type": "markdown",
   "metadata": {},
   "source": [
    "Fold the data day by day:"
   ]
  },
  {
   "cell_type": "code",
   "execution_count": 68,
   "metadata": {},
   "outputs": [
    {
     "data": {
      "text/plain": [
       "(30, 48)"
      ]
     },
     "execution_count": 68,
     "metadata": {},
     "output_type": "execute_result"
    }
   ],
   "source": [
    "P_nl_train_daily = P_nl_train.values.reshape((-1,48))\n",
    "P_nl_train_daily.shape"
   ]
  },
  {
   "cell_type": "code",
   "execution_count": 35,
   "metadata": {},
   "outputs": [
    {
     "data": {
      "image/png": "[encoded data removed]",
      "text/plain": [
       "<Figure size 432x288 with 1 Axes>"
      ]
     },
     "metadata": {
      "needs_background": "light"
     },
     "output_type": "display_data"
    }
   ],
   "source": [
    "hod = np.arange(48)/2\n",
    "plt.plot(hod, P_nl_train_daily.T, 'k-', alpha=0.3);\n",
    "plt.xlabel('hour of the day')\n",
    "plt.ylabel('net load (kW)');"
   ]
  },
  {
   "cell_type": "code",
   "execution_count": 111,
   "metadata": {},
   "outputs": [],
   "source": [
    "#sampling scheme: P_nl_train_daily[d,h]"
   ]
  },
  {
   "cell_type": "code",
   "execution_count": 112,
   "metadata": {},
   "outputs": [
    {
     "data": {
      "text/plain": [
       "array([0.378, 0.342, 0.342])"
      ]
     },
     "execution_count": 112,
     "metadata": {},
     "output_type": "execute_result"
    }
   ],
   "source": [
    "P_nl_train_daily[0,np.array([1,2,2])]"
   ]
  },
  {
   "cell_type": "markdown",
   "metadata": {},
   "source": [
    "## SDP describtion"
   ]
  },
  {
   "cell_type": "markdown",
   "metadata": {},
   "source": [
    "### Dynamics\n",
    "\n",
    "\n",
    "Variables of the problem:\n",
    "\n",
    "* 3 state variables: \n",
    "  * stored energy $E_{sto}$\n",
    "  * net load $P_{nl}$\n",
    "  * the hour of the day $hod$ \n",
    "* 1 control:\n",
    "  * either $P_{sto}$ because $P_{gc}$  (grid - curtailment power) is deduced from energy conservation: $P_{gc} = P_{nl} + P_{sto}$\n",
    "  * or $P_{gc}$ (grid - curtailment power) because $P_{sto}$ is deduced from energy conservation: $P_{sto} = P_{gc} - P_{nl}$\n",
    "* 1 perturbation: $di$ ('day index') which influences $P_{nl}$ future value"
   ]
  },
  {
   "cell_type": "code",
   "execution_count": null,
   "metadata": {},
   "outputs": [],
   "source": [
    "np.numpy"
   ]
  },
  {
   "cell_type": "code",
   "execution_count": 114,
   "metadata": {},
   "outputs": [
    {
     "data": {
      "text/plain": [
       "(5.5, 0.77, 0.0)"
      ]
     },
     "execution_count": 114,
     "metadata": {},
     "output_type": "execute_result"
    }
   ],
   "source": [
    "def dyn_sh_iid(E, P_nl, h, P_sto, di):\n",
    "    '''state transition the solar home, with iid net load model\n",
    "    \n",
    "    returns (E(k+1), P_nl(k+1), h(k+1))\n",
    "    '''\n",
    "    # 1) Stored energy evolution:\n",
    "    E_next = E + P_sto*dt\n",
    "    # 2) next hour of the day\n",
    "    int_h_next = np.round(2*(h + dt)).astype(int) % 48\n",
    "    h_next = int_h_next/2\n",
    "    # 3) next P_nl value: sample training day `w` at hour `h_next`\n",
    "    P_nl_next = P_nl_train_daily[di,int_h_next]\n",
    "    \n",
    "    return (E_next, P_nl_next, h_next)\n",
    "\n",
    "# Test:\n",
    "dyn_sh_iid(5, 2, 23.5,\n",
    "           1, 10)"
   ]
  },
  {
   "cell_type": "markdown",
   "metadata": {},
   "source": [
    "Innov law: uniform integers (day indices in the training set)"
   ]
  },
  {
   "cell_type": "code",
   "execution_count": 115,
   "metadata": {},
   "outputs": [],
   "source": [
    "di_law = stats.randint(low=0, high=30) # high is not included"
   ]
  },
  {
   "cell_type": "markdown",
   "metadata": {},
   "source": [
    "### Set of admissible controls"
   ]
  },
  {
   "cell_type": "code",
   "execution_count": 116,
   "metadata": {},
   "outputs": [
    {
     "data": {
      "text/plain": [
       "((-2.0, 3.0),)"
      ]
     },
     "execution_count": 116,
     "metadata": {},
     "output_type": "execute_result"
    }
   ],
   "source": [
    "def admissible_controls(E, P_nl, h):\n",
    "    '''set of admissible control U(x_k) of an Energy storage\n",
    "    control is P_sto\n",
    "    ''' \n",
    "    # 1) Constraints on P_sto:\n",
    "    P_neg = np.max((           -E /dt, -P_rated))\n",
    "    P_pos = np.min(( (E_rated - E)/dt, +P_rated))\n",
    "    U1 = (P_neg, P_pos)\n",
    "    return (U1, )\n",
    "\n",
    "# Test:\n",
    "admissible_controls(1, 0, 0)"
   ]
  },
  {
   "cell_type": "code",
   "execution_count": 117,
   "metadata": {},
   "outputs": [
    {
     "data": {
      "text/plain": [
       "((-3.0, 2.0),)"
      ]
     },
     "execution_count": 117,
     "metadata": {},
     "output_type": "execute_result"
    }
   ],
   "source": [
    "admissible_controls(7, 0, 0)"
   ]
  },
  {
   "cell_type": "markdown",
   "metadata": {},
   "source": [
    "### Cost function\n",
    "\n",
    "cost is the grid cost"
   ]
  },
  {
   "cell_type": "code",
   "execution_count": 118,
   "metadata": {},
   "outputs": [
    {
     "data": {
      "text/plain": [
       "3.0"
      ]
     },
     "execution_count": 118,
     "metadata": {},
     "output_type": "execute_result"
    }
   ],
   "source": [
    "def cost(E, P_nl, h, P_sto, di):\n",
    "    '''grid cost function of x,u,w\n",
    "    '''\n",
    "    # Grid power\n",
    "    P_gc = P_nl + P_sto\n",
    "    P_grid = np.where(P_gc > 0, P_gc, 0)\n",
    "    \n",
    "    # Grid price\n",
    "    c_grid = np.where(h < 6, 0.10, 0.20)\n",
    "    \n",
    "    return c_grid*P_grid\n",
    "\n",
    "cost(0,20,0,10,0)"
   ]
  },
  {
   "cell_type": "code",
   "execution_count": 119,
   "metadata": {},
   "outputs": [
    {
     "data": {
      "text/plain": [
       "6.0"
      ]
     },
     "execution_count": 119,
     "metadata": {},
     "output_type": "execute_result"
    }
   ],
   "source": [
    "cost(0,20,12,10,0)"
   ]
  },
  {
   "cell_type": "markdown",
   "metadata": {},
   "source": [
    "### Collect all these function in one SysDescription object"
   ]
  },
  {
   "cell_type": "code",
   "execution_count": 120,
   "metadata": {},
   "outputs": [
    {
     "name": "stdout",
     "output_type": "stream",
     "text": [
      "Dynamical system \"Solar home iid\" description\n",
      "* behavioral properties: stationnary, stochastic\n",
      "* functions:\n",
      "  - dynamics    : __main__.dyn_sh_iid\n",
      "  - cost        : __main__.cost\n",
      "  - control box : __main__.admissible_controls\n",
      "* variables\n",
      "  - state        : E, P_nl, h (dim 3)\n",
      "  - control      : P_sto (dim 1)\n",
      "  - perturbation : di (dim 1)\n"
     ]
    }
   ],
   "source": [
    "sys_desc = SysDescription((3,1,1), name='Solar home iid')\n",
    "sys_desc.dyn = dyn_sh_iid\n",
    "sys_desc.control_box = admissible_controls\n",
    "sys_desc.cost = cost\n",
    "sys_desc.perturb_laws = [di_law]\n",
    "\n",
    "sys_desc.print_summary()"
   ]
  },
  {
   "cell_type": "markdown",
   "metadata": {},
   "source": [
    "## Solve"
   ]
  },
  {
   "cell_type": "markdown",
   "metadata": {},
   "source": [
    "### Create a DPSolver object"
   ]
  },
  {
   "cell_type": "code",
   "execution_count": 163,
   "metadata": {},
   "outputs": [
    {
     "name": "stdout",
     "output_type": "stream",
     "text": [
      "SDP solver for system \"Solar home iid\"\n",
      "* state space discretized on a 21x31x48 points grid\n",
      "  - ΔE = 0.4\n",
      "  - ΔP_nl = 0.2\n",
      "  - Δh = 0.5\n",
      "* perturbation discretized on a 30 points grid\n",
      "  - Δdi = 1\n",
      "* control discretization steps:\n",
      "  - ΔP_sto = 0.1\n",
      "    yields [31 to 61] possible values (54.1 on average)\n"
     ]
    }
   ],
   "source": [
    "dpsolv = DPSolver(sys_desc)\n",
    "\n",
    "# discretize the state space\n",
    "n_E_sto = 21\n",
    "n_P_nl = 31\n",
    "n_h = 48\n",
    "P_nl_max = 3\n",
    "dpsolv.discretize_state(0, E_rated, n_E_sto,\n",
    "                        -P_nl_max, P_nl_max, n_P_nl,\n",
    "                        0, 23.5, n_h)\n",
    "# discretize the perturbation\n",
    "dpsolv.discretize_perturb(0,29,30) # already discrete\n",
    "\n",
    "# control discretization step:\n",
    "p_sto_step = 0.1 # kW\n",
    "dpsolv.control_steps=(p_sto_step,)\n",
    "\n",
    "dpsolv.print_summary()"
   ]
  },
  {
   "cell_type": "code",
   "execution_count": 164,
   "metadata": {},
   "outputs": [
    {
     "data": {
      "text/plain": [
       "[array([ 0.,  1.,  2.,  3.,  4.,  5.,  6.,  7.,  8.,  9., 10., 11., 12.,\n",
       "        13., 14., 15., 16., 17., 18., 19., 20., 21., 22., 23., 24., 25.,\n",
       "        26., 27., 28., 29.])]"
      ]
     },
     "execution_count": 164,
     "metadata": {},
     "output_type": "execute_result"
    }
   ],
   "source": [
    "dpsolv.perturb_grid"
   ]
  },
  {
   "cell_type": "markdown",
   "metadata": {},
   "source": [
    "Fix perturb_grid to be `int`, otherwise indexing fails in vectorized policy evaluation"
   ]
  },
  {
   "cell_type": "code",
   "execution_count": 165,
   "metadata": {},
   "outputs": [],
   "source": [
    "dpsolv.perturb_grid = [np.arange(30)]"
   ]
  },
  {
   "cell_type": "code",
   "execution_count": 166,
   "metadata": {},
   "outputs": [
    {
     "data": {
      "text/plain": [
       "[array([ 0,  1,  2,  3,  4,  5,  6,  7,  8,  9, 10, 11, 12, 13, 14, 15, 16,\n",
       "        17, 18, 19, 20, 21, 22, 23, 24, 25, 26, 27, 28, 29])]"
      ]
     },
     "execution_count": 166,
     "metadata": {},
     "output_type": "execute_result"
    }
   ],
   "source": [
    "dpsolv.perturb_grid"
   ]
  },
  {
   "cell_type": "markdown",
   "metadata": {},
   "source": [
    "### Policy optimization with “Policy Iteration” algorithm"
   ]
  },
  {
   "cell_type": "code",
   "execution_count": 167,
   "metadata": {},
   "outputs": [],
   "source": [
    "def P_sto_empirical(E, P_nl, h):\n",
    "    '''empirical storage policy\n",
    "\n",
    "    P_sto = - P_nl \"whenever feasible\"\n",
    "    '''\n",
    "    # Compute the contraints on P_sto\n",
    "    P_neg = np.max((           -E /dt, -P_rated))\n",
    "    P_pos = np.min(( (E_rated - E)/dt, +P_rated))\n",
    "\n",
    "    # \"whenever feasible\" control:\n",
    "    P_sto = -P_nl\n",
    "    if P_sto < P_neg:\n",
    "        return P_neg\n",
    "    elif P_sto > P_pos:\n",
    "        return P_pos\n",
    "    else:\n",
    "        return P_sto\n",
    "P_sto_emp_vect = np.vectorize(P_sto_empirical)"
   ]
  },
  {
   "cell_type": "markdown",
   "metadata": {},
   "source": [
    "Tests:\n",
    "* positive net load -> battery discharge\n",
    "* negative net load -> battery charge"
   ]
  },
  {
   "cell_type": "code",
   "execution_count": 168,
   "metadata": {},
   "outputs": [
    {
     "data": {
      "text/plain": [
       "array([ 0., -2., -3., -3., -3.])"
      ]
     },
     "execution_count": 168,
     "metadata": {},
     "output_type": "execute_result"
    }
   ],
   "source": [
    "P_sto_emp_vect([0, 1, 4, 7, 8], 5, 0)"
   ]
  },
  {
   "cell_type": "code",
   "execution_count": 169,
   "metadata": {},
   "outputs": [
    {
     "data": {
      "text/plain": [
       "array([3., 3., 3., 2., 0.])"
      ]
     },
     "execution_count": 169,
     "metadata": {},
     "output_type": "execute_result"
    }
   ],
   "source": [
    "P_sto_emp_vect([0, 1, 4, 7, 8], -5, 0)"
   ]
  },
  {
   "cell_type": "markdown",
   "metadata": {},
   "source": [
    "Evaluate this policy on the state grid:"
   ]
  },
  {
   "cell_type": "code",
   "execution_count": 170,
   "metadata": {},
   "outputs": [
    {
     "data": {
      "text/plain": [
       "(21, 31, 48, 1)"
      ]
     },
     "execution_count": 170,
     "metadata": {},
     "output_type": "execute_result"
    }
   ],
   "source": [
    "state_grid = dpsolv.state_grid_full\n",
    "E_sto_grid, P_nl_grid, h_grid  = state_grid\n",
    "\n",
    "grid_shape = dpsolv._state_grid_shape\n",
    "pol_ini = np.zeros(grid_shape + (1,))\n",
    "# P_sto law:\n",
    "pol_ini[...,0] = P_sto_emp_vect(*state_grid)\n",
    "pol_ini.shape"
   ]
  },
  {
   "cell_type": "markdown",
   "metadata": {},
   "source": [
    "**Step 2**: Assess the number of value iterations required for the policy evalution to converge"
   ]
  },
  {
   "cell_type": "code",
   "execution_count": 171,
   "metadata": {},
   "outputs": [
    {
     "name": "stdout",
     "output_type": "stream",
     "text": [
      "policy evaluation run in 11.74 s     \n"
     ]
    },
    {
     "data": {
      "image/png": "[encoded data removed]",
      "text/plain": [
       "<Figure size 432x288 with 1 Axes>"
      ]
     },
     "metadata": {
      "needs_background": "light"
     },
     "output_type": "display_data"
    }
   ],
   "source": [
    "J, J_ref = dpsolv.eval_policy(pol_ini, 48*5, rel_dp=True, J_ref_full=True)\n",
    "plt.plot(J_ref, '-+')\n",
    "plt.title('Reference cost evolution');\n",
    "plt.xlabel('number of value iterations');\n",
    "plt.xticks(np.arange(6)*48)\n",
    "plt.grid();"
   ]
  },
  {
   "cell_type": "code",
   "execution_count": 172,
   "metadata": {},
   "outputs": [
    {
     "data": {
      "text/plain": [
       "0.011729166666666666"
      ]
     },
     "execution_count": 172,
     "metadata": {},
     "output_type": "execute_result"
    }
   ],
   "source": [
    "0.563/48"
   ]
  },
  {
   "cell_type": "markdown",
   "metadata": {},
   "source": [
    "Observation: convergence issue, related to the non noisy transition of the hod variable?"
   ]
  },
  {
   "cell_type": "markdown",
   "metadata": {},
   "source": [
    "**Step 3:** Run Policy Iteration algorithm"
   ]
  },
  {
   "cell_type": "code",
   "execution_count": 173,
   "metadata": {},
   "outputs": [
    {
     "name": "stdout",
     "output_type": "stream",
     "text": [
      "policy evaluation run in 5.01 s     \n",
      "ref policy cost: 0.000580769\n",
      "policy iteration 1/4\n",
      "value iteration run in 7.94 s\n",
      "policy evaluation run in 4.37 s     \n",
      "ref policy cost: 9.36901e-05\n",
      "policy iteration 2/4\n",
      "value iteration run in 8.07 s\n",
      "policy evaluation run in 4.05 s     \n",
      "ref policy cost: 0.000155426\n",
      "policy iteration 3/4\n",
      "value iteration run in 7.92 s\n",
      "policy evaluation run in 4.47 s     \n",
      "ref policy cost: 0.000158229\n",
      "policy iteration 4/4\n",
      "value iteration run in 7.89 s\n",
      "policy evaluation run in 4.12 s     \n",
      "ref policy cost: 0.000158229\n"
     ]
    }
   ],
   "source": [
    "# Number of policy iterations:\n",
    "n_pol = 4\n",
    "\n",
    "# Number of value iterations\n",
    "#(inner loop used for policy evaluation)\n",
    "n_val = 96\n",
    "\n",
    "# run\n",
    "J, pol = dpsolv.policy_iteration(pol_ini, \n",
    "                                 n_val, n_pol,\n",
    "                                 rel_dp=True)"
   ]
  },
  {
   "cell_type": "markdown",
   "metadata": {},
   "source": [
    "## Plot the policy"
   ]
  },
  {
   "cell_type": "code",
   "execution_count": 174,
   "metadata": {},
   "outputs": [
    {
     "data": {
      "text/plain": [
       "(21, 31, 48)"
      ]
     },
     "execution_count": 174,
     "metadata": {},
     "output_type": "execute_result"
    }
   ],
   "source": [
    "pol_sto = pol[..., 0]\n",
    "pol_gc = P_nl_grid + pol_sto\n",
    "pol_gc.shape"
   ]
  },
  {
   "cell_type": "markdown",
   "metadata": {},
   "source": [
    "Obs: optimized policy is different than init pol. Sometimes Psto is bigger (precharging?), but never smaller"
   ]
  },
  {
   "cell_type": "code",
   "execution_count": 175,
   "metadata": {},
   "outputs": [
    {
     "data": {
      "text/plain": [
       "0.4083195601514883"
      ]
     },
     "execution_count": 175,
     "metadata": {},
     "output_type": "execute_result"
    }
   ],
   "source": [
    "(pol_ini - pol).std()"
   ]
  },
  {
   "cell_type": "code",
   "execution_count": 176,
   "metadata": {},
   "outputs": [
    {
     "data": {
      "text/plain": [
       "(1.3322676295501878e-15, -4.800000000000001)"
      ]
     },
     "execution_count": 176,
     "metadata": {},
     "output_type": "execute_result"
    }
   ],
   "source": [
    "(pol_ini - pol).max(), (pol_ini - pol).min()"
   ]
  },
  {
   "cell_type": "code",
   "execution_count": 177,
   "metadata": {},
   "outputs": [
    {
     "data": {
      "image/png": "[encoded data removed]",
      "text/plain": [
       "<Figure size 432x288 with 1 Axes>"
      ]
     },
     "metadata": {
      "needs_background": "light"
     },
     "output_type": "display_data"
    }
   ],
   "source": [
    "hod = np.arange(48)/2\n",
    "plt.plot(hod,pol_gc[5,0,:])\n",
    "plt.plot(hod,pol_gc[5,10,:])\n",
    "plt.plot(hod,pol_gc[5,20,:]);"
   ]
  },
  {
   "cell_type": "code",
   "execution_count": 178,
   "metadata": {},
   "outputs": [
    {
     "data": {
      "image/png": "[encoded data removed]",
      "text/plain": [
       "<Figure size 432x288 with 1 Axes>"
      ]
     },
     "metadata": {
      "needs_background": "light"
     },
     "output_type": "display_data"
    }
   ],
   "source": [
    "plt.plot(hod,pol_gc[0,10,:])\n",
    "plt.plot(hod,pol_gc[5,10,:])\n",
    "plt.plot(hod,pol_gc[8,10,:]);"
   ]
  },
  {
   "cell_type": "code",
   "execution_count": 179,
   "metadata": {},
   "outputs": [],
   "source": [
    "im_opts = dict(interpolation='nearest', cmap = 'RdBu_r',\n",
    "                   extent=(-P_nl_max, P_nl_max, 0, E_rated),\n",
    "                   vmin=-P_rated, vmax=P_rated,\n",
    "                   origin='lower', aspect='auto')\n",
    "P_mis_label = 'Net load mismatch $P_{nl}$ (kW)'\n",
    "E_sto_label = 'Storage energy $E_{sto}$ (kWh)'"
   ]
  },
  {
   "cell_type": "code",
   "execution_count": 180,
   "metadata": {},
   "outputs": [
    {
     "data": {
      "image/png": "[encoded data removed]",
      "text/plain": [
       "<Figure size 360x288 with 2 Axes>"
      ]
     },
     "metadata": {
      "needs_background": "light"
     },
     "output_type": "display_data"
    }
   ],
   "source": [
    "fig = plt.figure(figsize=(5,4))\n",
    "ax = fig.add_subplot(111, title='Grid power $P_{gc}$ (kW)',\n",
    "                          xlabel=P_mis_label, ylabel=E_sto_label)\n",
    "im = ax.imshow(pol_gc[:,:,10],  **im_opts)\n",
    "cbar = fig.colorbar(im)#, ticks=mpl.ticker.MultipleLocator())\n",
    "# contours\n",
    "clines = ax.contour(P_nl_grid[:,:,10], E_sto_grid[:,:,10], pol_gc[:,:,10],\n",
    "                [1e-2],\n",
    "                colors='k', linestyles='solid', linewidths=.5)\n",
    "cbar.add_lines(clines)\n",
    "\n",
    "fig.tight_layout()"
   ]
  },
  {
   "cell_type": "code",
   "execution_count": 181,
   "metadata": {},
   "outputs": [
    {
     "data": {
      "image/png": "[encoded data removed]",
      "text/plain": [
       "<Figure size 360x288 with 2 Axes>"
      ]
     },
     "metadata": {
      "needs_background": "light"
     },
     "output_type": "display_data"
    }
   ],
   "source": [
    "fig = plt.figure(figsize=(5,4))\n",
    "ax = fig.add_subplot(111, title='Storage power $P_{sto}$ (kW)',\n",
    "                          xlabel=P_mis_label, ylabel=E_sto_label)\n",
    "im = ax.imshow(pol_sto[:,:,10],  **im_opts)\n",
    "cbar = fig.colorbar(im)#, ticks=mpl.ticker.MultipleLocator())\n",
    "# contours\n",
    "clines = ax.contour(P_nl_grid[:,:,10], E_sto_grid[:,:,10], pol_sto[:,:,10],\n",
    "                [1e-2],\n",
    "                colors='k', linestyles='solid', linewidths=.5)\n",
    "cbar.add_lines(clines)\n",
    "\n",
    "fig.tight_layout()"
   ]
  },
  {
   "cell_type": "markdown",
   "metadata": {},
   "source": [
    "--- \n",
    "## Simulation on test data\n"
   ]
  },
  {
   "cell_type": "markdown",
   "metadata": {},
   "source": [
    "*TO BE DONE*"
   ]
  },
  {
   "cell_type": "code",
   "execution_count": 148,
   "metadata": {},
   "outputs": [],
   "source": [
    "P_sto = np.zeros(n)\n",
    "E_sto = np.zeros(n+1)\n",
    "P_grid = np.zeros(n)\n",
    "P_curt = np.zeros(n)\n",
    "\n",
    "E_sto[0]= E_rated/2\n",
    "\n",
    "for k in range(n):\n",
    "    P_sto[k], P_grid[k], P_curt[k] = control(P_sun[k], P_load[k], E_sto[k])\n",
    "    E_sto[k+1] = E_sto[k] + P_sto[k]*dt\n",
    "    assert 0 <= E_sto[k+1] <= E_rated\n",
    "\n",
    "    \n",
    "E_sto = E_sto[:-1]\n",
    "P_pv = P_sun - P_curt\n",
    "P_nl = P_load - P_sun"
   ]
  },
  {
   "cell_type": "code",
   "execution_count": 149,
   "metadata": {},
   "outputs": [
    {
     "name": "stdout",
     "output_type": "stream",
     "text": [
      "E_load:  16.90 kWh/d (data)\n",
      "E_sun:   12.71 kWh/d (data)\n",
      "E_pv:    12.40 kWh/d\n",
      "E_curt:   0.31 kWh/d\n",
      "E_grid:   3.78 kWh/d\n"
     ]
    }
   ],
   "source": [
    "print('E_load: {:6.2f} kWh/d (data)'.format(P_load.mean()*24))\n",
    "print('E_sun:  {:6.2f} kWh/d (data)'.format(P_sun.mean()*24))\n",
    "print('E_pv:   {:6.2f} kWh/d'.format(P_pv.mean()*24))\n",
    "print('E_curt: {:6.2f} kWh/d'.format(P_curt.mean()*24))\n",
    "print('E_grid: {:6.2f} kWh/d'.format(P_grid.mean()*24))"
   ]
  },
  {
   "cell_type": "code",
   "execution_count": 150,
   "metadata": {},
   "outputs": [
    {
     "data": {
      "image/png": "[encoded data removed]",
      "text/plain": [
       "<Figure size 432x288 with 2 Axes>"
      ]
     },
     "metadata": {},
     "output_type": "display_data"
    }
   ],
   "source": [
    "fig, ax = plt.subplots(2,1, sharex=True)\n",
    "\n",
    "ax[0].plot(td, P_nl, label='load − sun',\n",
    "           color=(0.6,)*3, lw=1)\n",
    "\n",
    "ax[0].plot(td, -P_curt, label='−curt',\n",
    "           color='tab:purple')\n",
    "\n",
    "ax[0].plot(td, P_grid, label='grid',\n",
    "           color='tab:red')\n",
    "\n",
    "ax[0].legend(ncol=4)\n",
    "ax[0].set(\n",
    "    ylabel='Power (kW)'\n",
    ")\n",
    "\n",
    "ax[1].plot(td, E_sto, label='$E_{sto}$',\n",
    "           color='tab:green');\n",
    "ax[1].axhline(0, color='k', lw=0.5)\n",
    "ax[1].axhline(E_rated, color='k', lw=0.5)\n",
    "\n",
    "ax[1].legend()\n",
    "ax[1].set(\n",
    "    xlabel='time (days)',\n",
    "    ylabel='Energy (kWh)',\n",
    "    ylim=(-.05*E_rated, 1.05*E_rated),\n",
    "    xlim=(0, n//48)\n",
    ");"
   ]
  },
  {
   "cell_type": "markdown",
   "metadata": {},
   "source": [
    "### Write results\n",
    "\n",
    "julia:\n",
    "\n",
    "```\n",
    "function write_results(fname, res)\n",
    "    f = open(fname, \"w\")\n",
    "    # header\n",
    "    write(f, \",P_grid,P_curt,P_sto,E_sto\\n\")\n",
    "    # optimization data\n",
    "    data = zip(\n",
    "        date, \n",
    "        res[\"P_grid\"],\n",
    "        res[\"P_curt\"],\n",
    "        res[\"P_sto\"],\n",
    "        res[\"E\"][1:end-1])\n",
    "    writecsv(f, data)\n",
    "    close(f)\n",
    "end\n",
    "\n",
    "write_results(\"results/anticipative.csv\", res_anticip)\n",
    "write_results(\"results/fixed.csv\", res_fixed)\n",
    "```"
   ]
  },
  {
   "cell_type": "code",
   "execution_count": null,
   "metadata": {},
   "outputs": [],
   "source": [
    "# TODO"
   ]
  },
  {
   "cell_type": "markdown",
   "metadata": {},
   "source": [
    "## Sensitivity analysis against sizing\n",
    "\n",
    "for a given load, effect of:\n",
    "\n",
    "* P_pv rated\n",
    "* E_rated"
   ]
  },
  {
   "cell_type": "code",
   "execution_count": null,
   "metadata": {},
   "outputs": [],
   "source": []
  }
 ],
 "metadata": {
  "kernelspec": {
   "display_name": "Python 3",
   "language": "python",
   "name": "python3"
  },
  "language_info": {
   "codemirror_mode": {
    "name": "ipython",
    "version": 3
   },
   "file_extension": ".py",
   "mimetype": "text/x-python",
   "name": "python",
   "nbconvert_exporter": "python",
   "pygments_lexer": "ipython3",
   "version": "3.7.3"
  },
  "toc": {
   "base_numbering": 1,
   "nav_menu": {},
   "number_sections": true,
   "sideBar": true,
   "skip_h1_title": true,
   "title_cell": "Table of Contents",
   "title_sidebar": "Contents",
   "toc_cell": false,
   "toc_position": {
    "height": "calc(100% - 180px)",
    "left": "10px",
    "top": "150px",
    "width": "240.867px"
   },
   "toc_section_display": true,
   "toc_window_display": true
  }
 },
 "nbformat": 4,
 "nbformat_minor": 2
}
