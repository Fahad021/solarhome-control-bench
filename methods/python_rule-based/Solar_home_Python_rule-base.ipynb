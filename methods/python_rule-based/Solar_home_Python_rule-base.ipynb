{
 "cells": [
  {
   "cell_type": "markdown",
   "metadata": {},
   "source": [
    "# Rule-based control of a solar home\n",
    "\n",
    "This simple control schem can be used as an example of how to use the solar home test bench in Python.\n",
    "\n",
    "Pierre Haessig, July 2019"
   ]
  },
  {
   "cell_type": "code",
   "execution_count": 2,
   "metadata": {},
   "outputs": [],
   "source": [
    "import numpy as np\n",
    "import pandas as pd\n",
    "import matplotlib.pyplot as plt\n",
    "%matplotlib inline"
   ]
  },
  {
   "cell_type": "markdown",
   "metadata": {},
   "source": [
    "Import solarhome utility module"
   ]
  },
  {
   "cell_type": "code",
   "execution_count": 3,
   "metadata": {},
   "outputs": [],
   "source": [
    "from pathlib import Path\n",
    "p_utils = Path('../../utils')\n",
    "assert p_utils.exists()\n",
    "\n",
    "import sys\n",
    "sys.path.append(str(p_utils))\n",
    "\n",
    "import benchutils as bu"
   ]
  },
  {
   "cell_type": "markdown",
   "metadata": {},
   "source": [
    "### Load testcase data"
   ]
  },
  {
   "cell_type": "code",
   "execution_count": 4,
   "metadata": {},
   "outputs": [
    {
     "data": {
      "text/html": [
       "<div>\n",
       "<style scoped>\n",
       "    .dataframe tbody tr th:only-of-type {\n",
       "        vertical-align: middle;\n",
       "    }\n",
       "\n",
       "    .dataframe tbody tr th {\n",
       "        vertical-align: top;\n",
       "    }\n",
       "\n",
       "    .dataframe thead th {\n",
       "        text-align: right;\n",
       "    }\n",
       "</style>\n",
       "<table border=\"1\" class=\"dataframe\">\n",
       "  <thead>\n",
       "    <tr style=\"text-align: right;\">\n",
       "      <th></th>\n",
       "      <th>P_load_sp</th>\n",
       "      <th>P_sun_1k</th>\n",
       "      <th>c_grid</th>\n",
       "    </tr>\n",
       "  </thead>\n",
       "  <tbody>\n",
       "    <tr>\n",
       "      <th>0.0</th>\n",
       "      <td>0.520</td>\n",
       "      <td>0.0</td>\n",
       "      <td>0.1</td>\n",
       "    </tr>\n",
       "    <tr>\n",
       "      <th>0.5</th>\n",
       "      <td>0.528</td>\n",
       "      <td>0.0</td>\n",
       "      <td>0.1</td>\n",
       "    </tr>\n",
       "    <tr>\n",
       "      <th>1.0</th>\n",
       "      <td>0.496</td>\n",
       "      <td>0.0</td>\n",
       "      <td>0.1</td>\n",
       "    </tr>\n",
       "  </tbody>\n",
       "</table>\n",
       "</div>"
      ],
      "text/plain": [
       "     P_load_sp  P_sun_1k  c_grid\n",
       "0.0      0.520       0.0     0.1\n",
       "0.5      0.528       0.0     0.1\n",
       "1.0      0.496       0.0     0.1"
      ]
     },
     "execution_count": 4,
     "metadata": {},
     "output_type": "execute_result"
    }
   ],
   "source": [
    "params, data = bu.load_data()\n",
    "data.head(3)"
   ]
  },
  {
   "cell_type": "code",
   "execution_count": 5,
   "metadata": {},
   "outputs": [
    {
     "data": {
      "text/plain": [
       "30"
      ]
     },
     "execution_count": 5,
     "metadata": {},
     "output_type": "execute_result"
    }
   ],
   "source": [
    "n = len(data)\n",
    "ndays = n//48 # days\n",
    "ndays"
   ]
  },
  {
   "cell_type": "markdown",
   "metadata": {},
   "source": [
    "Solar home parameters:"
   ]
  },
  {
   "cell_type": "code",
   "execution_count": 6,
   "metadata": {},
   "outputs": [
    {
     "name": "stdout",
     "output_type": "stream",
     "text": [
      "E_rated: 8.0 kWh\n",
      "P_pvp: 4.0 kW\n"
     ]
    }
   ],
   "source": [
    "E_rated = params['E_rated'] # kWh\n",
    "P_pvp = params['P_pvp'] # kW\n",
    "print('E_rated: {:.1f} kWh'.format(E_rated))\n",
    "print('P_pvp: {:.1f} kW'.format(P_pvp))"
   ]
  },
  {
   "cell_type": "code",
   "execution_count": 7,
   "metadata": {},
   "outputs": [],
   "source": [
    "P_grid_max = 3 # kW"
   ]
  },
  {
   "cell_type": "markdown",
   "metadata": {},
   "source": [
    "Extract time series of test data"
   ]
  },
  {
   "cell_type": "code",
   "execution_count": 8,
   "metadata": {},
   "outputs": [],
   "source": [
    "P_load = data.P_load_sp\n",
    "P_sun = data.P_sun_1k*P_pvp\n",
    "c_grid = data.c_grid\n",
    "\n",
    "t = data.index\n",
    "dt = t[1] - t[0]\n",
    "td = t/24 #days"
   ]
  },
  {
   "cell_type": "code",
   "execution_count": 9,
   "metadata": {},
   "outputs": [
    {
     "name": "stdout",
     "output_type": "stream",
     "text": [
      "Average sun energy: 15.60 kWh/d\n",
      "Average load      : 17.02 kWh/d\n",
      "ratio sun/load: 91.70%\n"
     ]
    }
   ],
   "source": [
    "print('Average sun energy: {:.2f} kWh/d'.format(P_sun.mean()*24))\n",
    "print('Average load      : {:.2f} kWh/d'.format(P_load.mean()*24))\n",
    "print('ratio sun/load: {:.2%}'.format(P_sun.mean()/P_load.mean()))"
   ]
  },
  {
   "cell_type": "markdown",
   "metadata": {},
   "source": [
    "Demo plot of input data"
   ]
  },
  {
   "cell_type": "code",
   "execution_count": 11,
   "metadata": {},
   "outputs": [
    {
     "data": {
      "image/png": "[encoded data removed]",
      "text/plain": [
       "<Figure size 576x180 with 1 Axes>"
      ]
     },
     "metadata": {
      "needs_background": "light"
     },
     "output_type": "display_data"
    }
   ],
   "source": [
    "fig, ax = plt.subplots(1,1, figsize=(8,2.5))\n",
    "z = slice(0, 7*48)\n",
    "ax.plot(td[z], P_load.iloc[z], label='load', color='tab:blue')\n",
    "ax.plot(td[z], P_sun.iloc[z], label='sun ({} kWp)'.format(P_pvp), color='tab:orange')\n",
    "\n",
    "ax.legend()\n",
    "ax.grid(True)\n",
    "\n",
    "ax.set(\n",
    "    xlim = (0,7),\n",
    "    xlabel = 'time (days)',\n",
    "    ylabel = 'Power (kW)'   \n",
    ")\n",
    "fig.tight_layout()"
   ]
  },
  {
   "cell_type": "markdown",
   "metadata": {},
   "source": [
    "## Rule based control\n",
    "\n",
    "control rules:\n",
    "\n",
    "* storage should follow the net load as much as possible: $P_{sto} = -P_{nl} = P_{sun} - P_{load} $\n",
    "* if empty, use grid instead\n",
    "* if full, curtail the excess of production\n",
    "\n",
    "inputs: $P_{sun}$, $P_{load}$ and storage state $E_{sto}$\n",
    "\n",
    "Outputs: $P_{sto}$, $P_{grid}$, $P_{curt}$\n",
    "\n",
    "def: net load: $P_{nl} = P_{load} - P_{sun}$\n",
    "\n",
    "* if $P_{nl}>0$ (load > sun)\n",
    "  * if battery not empty: battery discharge to follow net load $P_{sto} = -P_{nl} <0 $, $P_{grid} = 0$.\n",
    "  * if battery is empty, use the grid instead: $P_{grid} = P_{nl}$\n",
    "* if $P_{nl}<0$ (sun > load)\n",
    "  * if battery not full: battery charges to absorbe net production $P_{sto} = -P_{nl} > 0$, $P_{grid} = 0$.\n",
    "  * if battery is full, curtail the excess of production: $P_{curt} = -P_{nl}$, so that $P_{sun} - P_{curt} = P_{pv} = P_{load}$. $P_{grid} = 0$"
   ]
  },
  {
   "cell_type": "code",
   "execution_count": 12,
   "metadata": {},
   "outputs": [],
   "source": [
    "def control(P_sun, P_load, E_sto):\n",
    "    P_nl = P_load - P_sun\n",
    "    # outputs:\n",
    "    P_sto = 0\n",
    "    P_grid = 0\n",
    "    P_curt = 0\n",
    "    \n",
    "    E_next = E_sto - P_nl*dt\n",
    "    \n",
    "    if P_nl>0: # (load > sun)\n",
    "        E_next = E_next if E_next>0. else 0.\n",
    "        P_sto = (E_next - E_sto)/dt # <0\n",
    "        P_grid = P_nl + P_sto\n",
    "    else:\n",
    "        E_next = E_next if E_next<E_rated else E_rated\n",
    "        P_sto = (E_next - E_sto)/dt # >0\n",
    "        P_curt = -P_nl - P_sto\n",
    "    return P_sto, P_grid, P_curt"
   ]
  },
  {
   "cell_type": "code",
   "execution_count": 13,
   "metadata": {},
   "outputs": [
    {
     "data": {
      "text/plain": [
       "(-2.0, 0.0, 0)"
      ]
     },
     "execution_count": 13,
     "metadata": {},
     "output_type": "execute_result"
    }
   ],
   "source": [
    "control(1,3, 5)"
   ]
  },
  {
   "cell_type": "code",
   "execution_count": 14,
   "metadata": {},
   "outputs": [
    {
     "data": {
      "text/plain": [
       "(0.0, 2.0, 0)"
      ]
     },
     "execution_count": 14,
     "metadata": {},
     "output_type": "execute_result"
    }
   ],
   "source": [
    "control(1,3, 0)"
   ]
  },
  {
   "cell_type": "code",
   "execution_count": 15,
   "metadata": {},
   "outputs": [
    {
     "data": {
      "text/plain": [
       "(-0.1, 1.9, 0)"
      ]
     },
     "execution_count": 15,
     "metadata": {},
     "output_type": "execute_result"
    }
   ],
   "source": [
    "control(1,3, 0.1*dt)"
   ]
  },
  {
   "cell_type": "code",
   "execution_count": 16,
   "metadata": {},
   "outputs": [
    {
     "data": {
      "text/plain": [
       "(2.0, 0, 0.0)"
      ]
     },
     "execution_count": 16,
     "metadata": {},
     "output_type": "execute_result"
    }
   ],
   "source": [
    "control(3,1, 5)"
   ]
  },
  {
   "cell_type": "code",
   "execution_count": 17,
   "metadata": {},
   "outputs": [
    {
     "data": {
      "text/plain": [
       "(0.0, 0, 2.0)"
      ]
     },
     "execution_count": 17,
     "metadata": {},
     "output_type": "execute_result"
    }
   ],
   "source": [
    "control(3,1, E_rated)"
   ]
  },
  {
   "cell_type": "code",
   "execution_count": 18,
   "metadata": {},
   "outputs": [
    {
     "data": {
      "text/plain": [
       "(0.09999999999999964, 0, 1.9000000000000004)"
      ]
     },
     "execution_count": 18,
     "metadata": {},
     "output_type": "execute_result"
    }
   ],
   "source": [
    "control(3,1, E_rated-0.1*dt)"
   ]
  },
  {
   "cell_type": "markdown",
   "metadata": {},
   "source": [
    "### Simulation loop"
   ]
  },
  {
   "cell_type": "code",
   "execution_count": 20,
   "metadata": {},
   "outputs": [],
   "source": [
    "P_sto = np.zeros(n)\n",
    "E_sto = np.zeros(n+1)\n",
    "P_grid = np.zeros(n)\n",
    "P_curt = np.zeros(n)\n",
    "\n",
    "E_sto[0]= E_rated/2\n",
    "\n",
    "for k in range(n):\n",
    "    P_sto[k], P_grid[k], P_curt[k] = control(P_sun.values[k], P_load.values[k], E_sto[k])\n",
    "    E_sto[k+1] = E_sto[k] + P_sto[k]*dt\n",
    "    assert 0 <= E_sto[k+1] <= E_rated\n",
    "\n",
    "    \n",
    "E_sto = E_sto[:-1]\n",
    "P_pv = P_sun - P_curt\n",
    "P_nl = P_load - P_sun"
   ]
  },
  {
   "cell_type": "markdown",
   "metadata": {},
   "source": [
    "Collect all trajectory variables"
   ]
  },
  {
   "cell_type": "code",
   "execution_count": 21,
   "metadata": {},
   "outputs": [
    {
     "data": {
      "text/html": [
       "<div>\n",
       "<style scoped>\n",
       "    .dataframe tbody tr th:only-of-type {\n",
       "        vertical-align: middle;\n",
       "    }\n",
       "\n",
       "    .dataframe tbody tr th {\n",
       "        vertical-align: top;\n",
       "    }\n",
       "\n",
       "    .dataframe thead th {\n",
       "        text-align: right;\n",
       "    }\n",
       "</style>\n",
       "<table border=\"1\" class=\"dataframe\">\n",
       "  <thead>\n",
       "    <tr style=\"text-align: right;\">\n",
       "      <th></th>\n",
       "      <th>E_sto</th>\n",
       "      <th>P_sto</th>\n",
       "      <th>P_load_sp</th>\n",
       "      <th>P_shed</th>\n",
       "      <th>P_load</th>\n",
       "      <th>P_sun</th>\n",
       "      <th>P_curt</th>\n",
       "      <th>P_pv</th>\n",
       "      <th>P_grid</th>\n",
       "      <th>c_grid</th>\n",
       "    </tr>\n",
       "    <tr>\n",
       "      <th>t</th>\n",
       "      <th></th>\n",
       "      <th></th>\n",
       "      <th></th>\n",
       "      <th></th>\n",
       "      <th></th>\n",
       "      <th></th>\n",
       "      <th></th>\n",
       "      <th></th>\n",
       "      <th></th>\n",
       "      <th></th>\n",
       "    </tr>\n",
       "  </thead>\n",
       "  <tbody>\n",
       "    <tr>\n",
       "      <th>0.0</th>\n",
       "      <td>4.000</td>\n",
       "      <td>-0.520</td>\n",
       "      <td>0.520</td>\n",
       "      <td>0.0</td>\n",
       "      <td>0.520</td>\n",
       "      <td>0.0</td>\n",
       "      <td>0.0</td>\n",
       "      <td>0.0</td>\n",
       "      <td>4.440892e-16</td>\n",
       "      <td>0.1</td>\n",
       "    </tr>\n",
       "    <tr>\n",
       "      <th>0.5</th>\n",
       "      <td>3.740</td>\n",
       "      <td>-0.528</td>\n",
       "      <td>0.528</td>\n",
       "      <td>0.0</td>\n",
       "      <td>0.528</td>\n",
       "      <td>0.0</td>\n",
       "      <td>0.0</td>\n",
       "      <td>0.0</td>\n",
       "      <td>-4.440892e-16</td>\n",
       "      <td>0.1</td>\n",
       "    </tr>\n",
       "    <tr>\n",
       "      <th>1.0</th>\n",
       "      <td>3.476</td>\n",
       "      <td>-0.496</td>\n",
       "      <td>0.496</td>\n",
       "      <td>0.0</td>\n",
       "      <td>0.496</td>\n",
       "      <td>0.0</td>\n",
       "      <td>0.0</td>\n",
       "      <td>0.0</td>\n",
       "      <td>-4.440892e-16</td>\n",
       "      <td>0.1</td>\n",
       "    </tr>\n",
       "  </tbody>\n",
       "</table>\n",
       "</div>"
      ],
      "text/plain": [
       "     E_sto  P_sto  P_load_sp  P_shed  P_load  P_sun  P_curt  P_pv  \\\n",
       "t                                                                   \n",
       "0.0  4.000 -0.520      0.520     0.0   0.520    0.0     0.0   0.0   \n",
       "0.5  3.740 -0.528      0.528     0.0   0.528    0.0     0.0   0.0   \n",
       "1.0  3.476 -0.496      0.496     0.0   0.496    0.0     0.0   0.0   \n",
       "\n",
       "           P_grid  c_grid  \n",
       "t                          \n",
       "0.0  4.440892e-16     0.1  \n",
       "0.5 -4.440892e-16     0.1  \n",
       "1.0 -4.440892e-16     0.1  "
      ]
     },
     "execution_count": 21,
     "metadata": {},
     "output_type": "execute_result"
    }
   ],
   "source": [
    "traj = pd.DataFrame(\n",
    "    data = {\n",
    "        'E_sto': E_sto, # state \n",
    "        'P_sto': P_sto, # out\n",
    "\n",
    "        'P_load_sp': P_load,\n",
    "        'P_shed': np.zeros_like(P_load),\n",
    "        'P_load': P_load,\n",
    "\n",
    "        'P_sun' : P_sun,\n",
    "        'P_curt': P_curt,\n",
    "        'P_pv'  : P_sun - P_curt,\n",
    "\n",
    "        'P_grid': P_grid,\n",
    "        'c_grid': c_grid,\n",
    "    }, index=t\n",
    ")\n",
    "traj.index.name = 't'\n",
    "traj.head(3)"
   ]
  },
  {
   "cell_type": "markdown",
   "metadata": {},
   "source": [
    "### Performance statistics"
   ]
  },
  {
   "cell_type": "code",
   "execution_count": 22,
   "metadata": {},
   "outputs": [
    {
     "name": "stdout",
     "output_type": "stream",
     "text": [
      "P_load:    17.02 kWh/d\n",
      "\n",
      "P_sun:     15.60 kWh/d (data)\n",
      "P_curt:     1.94 kWh/d\n",
      "P_pv:      13.66 kWh/d\n",
      "\n",
      "P_sto:     0.025 kWh/d\n",
      "\n",
      "P_grid:     3.38 kWh/d\n",
      "C_grid:    0.563 €/d\n",
      "\n"
     ]
    }
   ],
   "source": [
    "stats = bu.compute_stats(traj)\n",
    "bu.pprint_stats(stats)"
   ]
  },
  {
   "cell_type": "markdown",
   "metadata": {},
   "source": [
    "### Plots"
   ]
  },
  {
   "cell_type": "code",
   "execution_count": 24,
   "metadata": {},
   "outputs": [
    {
     "data": {
      "image/png": "[encoded data removed]",
      "text/plain": [
       "<Figure size 432x252 with 2 Axes>"
      ]
     },
     "metadata": {
      "needs_background": "light"
     },
     "output_type": "display_data"
    }
   ],
   "source": [
    "bu.plot_traj(traj[0:24*5], E_rated);"
   ]
  },
  {
   "cell_type": "markdown",
   "metadata": {},
   "source": [
    "### Write results"
   ]
  },
  {
   "cell_type": "code",
   "execution_count": 25,
   "metadata": {},
   "outputs": [
    {
     "name": "stdout",
     "output_type": "stream",
     "text": [
      "result files for method 'Python_rule-based' written!\n"
     ]
    }
   ],
   "source": [
    "bu.save_results('Python_rule-based', params, stats, traj)"
   ]
  }
 ],
 "metadata": {
  "kernelspec": {
   "display_name": "Python 3",
   "language": "python",
   "name": "python3"
  },
  "language_info": {
   "codemirror_mode": {
    "name": "ipython",
    "version": 3
   },
   "file_extension": ".py",
   "mimetype": "text/x-python",
   "name": "python",
   "nbconvert_exporter": "python",
   "pygments_lexer": "ipython3",
   "version": "3.7.3"
  }
 },
 "nbformat": 4,
 "nbformat_minor": 4
}
